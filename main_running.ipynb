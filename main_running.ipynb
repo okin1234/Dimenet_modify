{
 "cells": [
  {
   "cell_type": "code",
   "execution_count": 1,
   "id": "6b684166-183a-4ce6-9f29-3900daa7eaf8",
   "metadata": {},
   "outputs": [],
   "source": [
    "import run \n",
    "from run import trainer"
   ]
  },
  {
   "cell_type": "code",
   "execution_count": 2,
   "id": "f7592950-5441-4061-a432-f484ae6eb41a",
   "metadata": {},
   "outputs": [],
   "source": [
    "base_dir = \"/home/rnwnsgud1234/4.BRL/12.MEGNET/Datasets/\"\n",
    "\n",
    "''' model parameter settings'''\n",
    "hidden_channels=128\n",
    "out_channels=1\n",
    "num_blocks=4\n",
    "num_bilinear=64\n",
    "basis_emb_size=8\n",
    "out_emb_channels=256\n",
    "num_spherical=7\n",
    "num_radial=6\n",
    "cutoff=5.0\n",
    "max_num_neighbors=32\n",
    "envelope_exponent=5\n",
    "num_before_skip=1\n",
    "num_after_skip=2\n",
    "num_output_layers=3\n",
    "act='swish'\n",
    "output_init='GlorotOrthogonal'\n",
    "\n",
    "''' data setting '''\n",
    "random_state=1000\n",
    "num_state=1\n",
    "num_xtb_data=100\n",
    "num_g09_data=None\n",
    "load=False\n",
    "g09_data_cut=None\n",
    "with_rdkit=False\n",
    "rdkit_rank=10\n",
    "to_class=False\n",
    "class_num=5\n",
    "cut_mode='qcut'\n",
    "onehot=False\n",
    "xtb_state=0.\n",
    "g09_state=1.\n",
    "\n",
    "runner = trainer(base_dir, hidden_channels, out_channels, num_blocks, num_bilinear, basis_emb_size, out_emb_channels, num_spherical, num_radial, cutoff, max_num_neighbors, envelope_exponent, num_before_skip, num_after_skip, num_output_layers, act, output_init, random_state, num_state, num_xtb_data, num_g09_data, load, g09_data_cut, with_rdkit, rdkit_rank, to_class, class_num, cut_mode, onehot, xtb_state, g09_state)"
   ]
  },
  {
   "cell_type": "markdown",
   "id": "d64d7d32-4a67-4941-812c-62e978be75d0",
   "metadata": {
    "jp-MarkdownHeadingCollapsed": true,
    "tags": []
   },
   "source": [
    "# running test"
   ]
  },
  {
   "cell_type": "code",
   "execution_count": 3,
   "id": "e1b0f9e2-345a-41db-82a2-81b7c6ffe4fb",
   "metadata": {
    "collapsed": true,
    "jupyter": {
     "outputs_hidden": true
    },
    "tags": []
   },
   "outputs": [
    {
     "name": "stdout",
     "output_type": "stream",
     "text": [
      "g09 datas convert to graph datas~~\n"
     ]
    },
    {
     "name": "stderr",
     "output_type": "stream",
     "text": [
      "100%|██████████| 502/502 [00:00<00:00, 1867.81it/s]\n"
     ]
    },
    {
     "name": "stdout",
     "output_type": "stream",
     "text": [
      "g09 datas convert to target datas~~\n"
     ]
    },
    {
     "name": "stderr",
     "output_type": "stream",
     "text": [
      "100%|██████████| 467/467 [00:00<00:00, 4011.88it/s]\n"
     ]
    },
    {
     "name": "stdout",
     "output_type": "stream",
     "text": [
      "xtb datas convert to target datas~~ (it may be doing for few minutes...)\n"
     ]
    },
    {
     "name": "stderr",
     "output_type": "stream",
     "text": [
      "100%|██████████| 123259/123259 [00:29<00:00, 4236.40it/s]\n"
     ]
    },
    {
     "name": "stdout",
     "output_type": "stream",
     "text": [
      "The length of g09_datas is 467\n",
      "The length of g09_targets is 467\n",
      "xtb datas conver to graph datas~~ (it may be doing for few minutes...)\n"
     ]
    },
    {
     "name": "stderr",
     "output_type": "stream",
     "text": [
      "100%|██████████| 134239/134239 [00:00<00:00, 1006518.09it/s]\n"
     ]
    },
    {
     "name": "stdout",
     "output_type": "stream",
     "text": [
      "The length of xtb_datas is 0\n",
      "The length of xtb_targets is 0\n",
      "Train, val data sizes are  373 94\n",
      "Epoch: 001, Train MAE: 3.2546864, Validation MAE: 3.2640098, lr: 0.0000000\n",
      "Epoch: 002, Train MAE: 1.9891700, Validation MAE: 1.1409667, lr: 0.0010000\n",
      "Epoch: 003, Train MAE: 1.2408221, Validation MAE: 1.5150669, lr: 0.0010000\n",
      "Epoch: 004, Train MAE: 1.0376157, Validation MAE: 1.0215632, lr: 0.0009600\n",
      "Epoch: 005, Train MAE: 0.9266139, Validation MAE: 0.8876451, lr: 0.0009216\n",
      "Epoch: 006, Train MAE: 0.8500325, Validation MAE: 0.8191559, lr: 0.0008847\n",
      "Epoch: 007, Train MAE: 0.7003556, Validation MAE: 0.6787447, lr: 0.0008493\n",
      "Epoch: 008, Train MAE: 0.7193822, Validation MAE: 0.7101200, lr: 0.0008154\n",
      "Epoch: 009, Train MAE: 0.6172394, Validation MAE: 0.5408986, lr: 0.0007828\n",
      "Epoch: 010, Train MAE: 0.6670939, Validation MAE: 0.5035339, lr: 0.0007514\n",
      "Epoch: 011, Train MAE: 0.5316243, Validation MAE: 0.4683235, lr: 0.0007214\n",
      "Epoch: 012, Train MAE: 0.4704182, Validation MAE: 0.5047653, lr: 0.0006925\n",
      "Epoch: 013, Train MAE: 0.4269057, Validation MAE: 0.4724570, lr: 0.0006648\n",
      "Epoch: 014, Train MAE: 0.5022091, Validation MAE: 0.4455640, lr: 0.0006382\n",
      "Epoch: 015, Train MAE: 0.4302634, Validation MAE: 0.5341483, lr: 0.0006127\n",
      "Epoch: 016, Train MAE: 0.3871679, Validation MAE: 0.4733509, lr: 0.0005882\n",
      "Epoch: 017, Train MAE: 0.3930523, Validation MAE: 0.4384473, lr: 0.0005647\n",
      "Epoch: 018, Train MAE: 0.3225673, Validation MAE: 0.4657969, lr: 0.0005421\n",
      "Epoch: 019, Train MAE: 0.3072737, Validation MAE: 0.3983411, lr: 0.0005204\n",
      "Epoch: 020, Train MAE: 0.3565030, Validation MAE: 0.4143735, lr: 0.0004996\n",
      "===================================================================================\n",
      "Best Epoch: 19\n",
      "Best Val MAE: 0.3983411291673341\n"
     ]
    }
   ],
   "source": [
    "''' state feature off result '''\n",
    "''' training settings '''\n",
    "batch_size=16\n",
    "lr=0.001\n",
    "epochs=20\n",
    "\n",
    "''' wandb settings '''\n",
    "wandb_on=True\n",
    "wandb_project=None\n",
    "wandb_name=None\n",
    "wandb_group=None\n",
    "wandb_memo=None\n",
    "\n",
    "model_dict = runner.__dict__\n",
    "\n",
    "runner.train(batch_size, lr, epochs, wandb_on, wandb_project, wandb_name, wandb_group, wandb_memo)"
   ]
  },
  {
   "cell_type": "code",
   "execution_count": 3,
   "id": "58c2c288-a804-4817-b66e-dbb2248b0120",
   "metadata": {
    "collapsed": true,
    "jupyter": {
     "outputs_hidden": true
    },
    "tags": []
   },
   "outputs": [
    {
     "name": "stdout",
     "output_type": "stream",
     "text": [
      "g09 datas convert to graph datas~~\n"
     ]
    },
    {
     "name": "stderr",
     "output_type": "stream",
     "text": [
      "100%|██████████| 502/502 [00:00<00:00, 1871.83it/s]\n"
     ]
    },
    {
     "name": "stdout",
     "output_type": "stream",
     "text": [
      "g09 datas convert to target datas~~\n"
     ]
    },
    {
     "name": "stderr",
     "output_type": "stream",
     "text": [
      "100%|██████████| 467/467 [00:00<00:00, 4025.55it/s]\n"
     ]
    },
    {
     "name": "stdout",
     "output_type": "stream",
     "text": [
      "xtb datas convert to target datas~~ (it may be doing for few minutes...)\n"
     ]
    },
    {
     "name": "stderr",
     "output_type": "stream",
     "text": [
      "100%|██████████| 123259/123259 [00:29<00:00, 4238.09it/s]\n"
     ]
    },
    {
     "name": "stdout",
     "output_type": "stream",
     "text": [
      "The length of g09_datas is 467\n",
      "The length of g09_targets is 467\n",
      "xtb datas conver to graph datas~~ (it may be doing for few minutes...)\n"
     ]
    },
    {
     "name": "stderr",
     "output_type": "stream",
     "text": [
      "100%|██████████| 134239/134239 [00:22<00:00, 5957.62it/s]\n"
     ]
    },
    {
     "name": "stdout",
     "output_type": "stream",
     "text": [
      "The length of xtb_datas is 5000\n",
      "The length of xtb_targets is 5000\n",
      "Train, val data sizes are  5374 93\n",
      "Epoch: 001, Train MAE: 3.3254868, Validation MAE: 3.2675436, lr: 0.0000000\n",
      "Epoch: 002, Train MAE: 0.8956763, Validation MAE: 1.0981904, lr: 0.0010000\n",
      "Epoch: 003, Train MAE: 0.4494672, Validation MAE: 0.5981126, lr: 0.0010000\n",
      "Epoch: 004, Train MAE: 0.3499893, Validation MAE: 0.5319727, lr: 0.0009600\n",
      "Epoch: 005, Train MAE: 0.2888383, Validation MAE: 0.3437014, lr: 0.0009216\n",
      "Epoch: 006, Train MAE: 0.2538909, Validation MAE: 0.3363461, lr: 0.0008847\n",
      "Epoch: 007, Train MAE: 0.2328707, Validation MAE: 0.3310423, lr: 0.0008493\n",
      "Epoch: 008, Train MAE: 0.2064329, Validation MAE: 0.3616459, lr: 0.0008154\n",
      "Epoch: 009, Train MAE: 0.2037008, Validation MAE: 0.3177601, lr: 0.0007828\n",
      "Epoch: 010, Train MAE: 0.2002792, Validation MAE: 0.2988639, lr: 0.0007514\n",
      "Epoch: 011, Train MAE: 0.1825612, Validation MAE: 0.3343760, lr: 0.0007214\n",
      "Epoch: 012, Train MAE: 0.1812523, Validation MAE: 0.2887159, lr: 0.0006925\n",
      "Epoch: 013, Train MAE: 0.1654056, Validation MAE: 0.3155188, lr: 0.0006648\n",
      "Epoch: 014, Train MAE: 0.1544464, Validation MAE: 0.3209446, lr: 0.0006382\n",
      "Epoch: 015, Train MAE: 0.1489328, Validation MAE: 0.3259879, lr: 0.0006127\n",
      "Epoch: 016, Train MAE: 0.1442384, Validation MAE: 0.2839838, lr: 0.0005882\n",
      "Epoch: 017, Train MAE: 0.1380430, Validation MAE: 0.2880082, lr: 0.0005647\n",
      "Epoch: 018, Train MAE: 0.1367870, Validation MAE: 0.3284702, lr: 0.0005421\n",
      "Epoch: 019, Train MAE: 0.1327283, Validation MAE: 0.3090299, lr: 0.0005204\n",
      "Epoch: 020, Train MAE: 0.1215480, Validation MAE: 0.3144255, lr: 0.0004996\n",
      "===================================================================================\n",
      "Best Epoch: 16\n",
      "Best Val MAE: 0.2839837721461158\n"
     ]
    }
   ],
   "source": [
    "''' state feature off result but with xtb '''\n",
    "''' training settings '''\n",
    "batch_size=16\n",
    "lr=0.001\n",
    "epochs=20\n",
    "\n",
    "''' wandb settings '''\n",
    "wandb_on=True\n",
    "wandb_project=None\n",
    "wandb_name=None\n",
    "wandb_group=None\n",
    "wandb_memo=None\n",
    "\n",
    "model_dict = runner.__dict__\n",
    "\n",
    "runner.train(batch_size, lr, epochs, wandb_on, wandb_project, wandb_name, wandb_group, wandb_memo)"
   ]
  },
  {
   "cell_type": "code",
   "execution_count": 3,
   "id": "ec16df75-b52f-428c-8ac6-7312fd01f373",
   "metadata": {
    "collapsed": true,
    "jupyter": {
     "outputs_hidden": true
    },
    "tags": []
   },
   "outputs": [
    {
     "name": "stdout",
     "output_type": "stream",
     "text": [
      "g09 datas convert to graph datas~~\n"
     ]
    },
    {
     "name": "stderr",
     "output_type": "stream",
     "text": [
      "100%|██████████| 502/502 [00:00<00:00, 1858.10it/s]\n"
     ]
    },
    {
     "name": "stdout",
     "output_type": "stream",
     "text": [
      "g09 datas convert to target datas~~\n"
     ]
    },
    {
     "name": "stderr",
     "output_type": "stream",
     "text": [
      "100%|██████████| 467/467 [00:00<00:00, 3958.64it/s]\n"
     ]
    },
    {
     "name": "stdout",
     "output_type": "stream",
     "text": [
      "xtb datas convert to target datas~~ (it may be doing for few minutes...)\n"
     ]
    },
    {
     "name": "stderr",
     "output_type": "stream",
     "text": [
      "100%|██████████| 123259/123259 [00:29<00:00, 4185.31it/s]\n"
     ]
    },
    {
     "name": "stdout",
     "output_type": "stream",
     "text": [
      "The length of g09_datas is 467\n",
      "The length of g09_targets is 467\n",
      "xtb datas conver to graph datas~~ (it may be doing for few minutes...)\n"
     ]
    },
    {
     "name": "stderr",
     "output_type": "stream",
     "text": [
      "100%|██████████| 134239/134239 [00:00<00:00, 1020381.15it/s]\n"
     ]
    },
    {
     "name": "stdout",
     "output_type": "stream",
     "text": [
      "The length of xtb_datas is 0\n",
      "The length of xtb_targets is 0\n",
      "Train, val data sizes are  373 94\n",
      "Epoch: 001, Train MAE: 3.2546864, Validation MAE: 3.2640098, lr: 0.0000000\n",
      "Epoch: 002, Train MAE: 1.6114651, Validation MAE: 1.4344235, lr: 0.0010000\n",
      "Epoch: 003, Train MAE: 1.3859062, Validation MAE: 1.6484964, lr: 0.0010000\n",
      "Epoch: 004, Train MAE: 1.1424584, Validation MAE: 1.1225517, lr: 0.0009600\n",
      "Epoch: 005, Train MAE: 0.8978859, Validation MAE: 0.9682847, lr: 0.0009216\n",
      "Epoch: 006, Train MAE: 1.0170104, Validation MAE: 0.7911815, lr: 0.0008847\n",
      "Epoch: 007, Train MAE: 0.7141459, Validation MAE: 0.8937015, lr: 0.0008493\n",
      "Epoch: 008, Train MAE: 0.6933496, Validation MAE: 0.7248150, lr: 0.0008154\n",
      "Epoch: 009, Train MAE: 0.5715707, Validation MAE: 0.8575263, lr: 0.0007828\n",
      "Epoch: 010, Train MAE: 0.6781988, Validation MAE: 0.6042651, lr: 0.0007514\n",
      "Epoch: 011, Train MAE: 0.5562804, Validation MAE: 0.6204766, lr: 0.0007214\n",
      "Epoch: 012, Train MAE: 0.4754953, Validation MAE: 0.5194453, lr: 0.0006925\n",
      "Epoch: 013, Train MAE: 0.5071291, Validation MAE: 0.7722129, lr: 0.0006648\n",
      "Epoch: 014, Train MAE: 0.4989892, Validation MAE: 0.4504628, lr: 0.0006382\n",
      "Epoch: 015, Train MAE: 0.4636414, Validation MAE: 0.4557222, lr: 0.0006127\n",
      "Epoch: 016, Train MAE: 0.4080856, Validation MAE: 0.4422017, lr: 0.0005882\n",
      "Epoch: 017, Train MAE: 0.3947344, Validation MAE: 0.5969584, lr: 0.0005647\n",
      "Epoch: 018, Train MAE: 0.4194466, Validation MAE: 0.3872594, lr: 0.0005421\n",
      "Epoch: 019, Train MAE: 0.3774524, Validation MAE: 0.5293590, lr: 0.0005204\n",
      "Epoch: 020, Train MAE: 0.3882500, Validation MAE: 0.5418149, lr: 0.0004996\n",
      "===================================================================================\n",
      "Best Epoch: 18\n",
      "Best Val MAE: 0.3872593652102345\n"
     ]
    }
   ],
   "source": [
    "''' state feature on result '''\n",
    "''' training settings '''\n",
    "batch_size=16\n",
    "lr=0.001\n",
    "epochs=20\n",
    "\n",
    "''' wandb settings '''\n",
    "wandb_on=True\n",
    "wandb_project=None\n",
    "wandb_name=None\n",
    "wandb_group=None\n",
    "wandb_memo=None\n",
    "\n",
    "model_dict = runner.__dict__\n",
    "\n",
    "runner.train(batch_size, lr, epochs, wandb_on, wandb_project, wandb_name, wandb_group, wandb_memo)"
   ]
  },
  {
   "cell_type": "code",
   "execution_count": 3,
   "id": "25a2ed2b-97da-4bef-8ecf-7c6fb14a2cf7",
   "metadata": {
    "collapsed": true,
    "jupyter": {
     "outputs_hidden": true
    },
    "tags": []
   },
   "outputs": [
    {
     "name": "stdout",
     "output_type": "stream",
     "text": [
      "g09 datas convert to graph datas~~\n"
     ]
    },
    {
     "name": "stderr",
     "output_type": "stream",
     "text": [
      "100%|██████████| 502/502 [00:00<00:00, 1876.58it/s]\n"
     ]
    },
    {
     "name": "stdout",
     "output_type": "stream",
     "text": [
      "g09 datas convert to target datas~~\n"
     ]
    },
    {
     "name": "stderr",
     "output_type": "stream",
     "text": [
      "100%|██████████| 467/467 [00:00<00:00, 3936.75it/s]\n"
     ]
    },
    {
     "name": "stdout",
     "output_type": "stream",
     "text": [
      "xtb datas convert to target datas~~ (it may be doing for few minutes...)\n"
     ]
    },
    {
     "name": "stderr",
     "output_type": "stream",
     "text": [
      "100%|██████████| 123259/123259 [00:29<00:00, 4155.56it/s]\n"
     ]
    },
    {
     "name": "stdout",
     "output_type": "stream",
     "text": [
      "The length of g09_datas is 467\n",
      "The length of g09_targets is 467\n",
      "xtb datas conver to graph datas~~ (it may be doing for few minutes...)\n"
     ]
    },
    {
     "name": "stderr",
     "output_type": "stream",
     "text": [
      "100%|██████████| 134239/134239 [00:22<00:00, 6053.42it/s]\n"
     ]
    },
    {
     "name": "stdout",
     "output_type": "stream",
     "text": [
      "The length of xtb_datas is 5000\n",
      "The length of xtb_targets is 5000\n",
      "Train, val data sizes are  5374 93\n",
      "Epoch: 001, Train MAE: 3.3254868, Validation MAE: 3.2675436, lr: 0.0000000\n",
      "Epoch: 002, Train MAE: 0.9825352, Validation MAE: 1.0809456, lr: 0.0010000\n",
      "Epoch: 003, Train MAE: 0.5025107, Validation MAE: 0.6588274, lr: 0.0010000\n",
      "Epoch: 004, Train MAE: 0.3765761, Validation MAE: 0.7753800, lr: 0.0009600\n",
      "Epoch: 005, Train MAE: 0.3341235, Validation MAE: 0.4537318, lr: 0.0009216\n",
      "Epoch: 006, Train MAE: 0.2921831, Validation MAE: 0.5589388, lr: 0.0008847\n",
      "Epoch: 007, Train MAE: 0.2642922, Validation MAE: 0.4039670, lr: 0.0008493\n",
      "Epoch: 008, Train MAE: 0.2428246, Validation MAE: 0.3555637, lr: 0.0008154\n",
      "Epoch: 009, Train MAE: 0.2241070, Validation MAE: 0.3738133, lr: 0.0007828\n",
      "Epoch: 010, Train MAE: 0.2128971, Validation MAE: 0.3607875, lr: 0.0007514\n",
      "Epoch: 011, Train MAE: 0.2035982, Validation MAE: 0.3220336, lr: 0.0007214\n",
      "Epoch: 012, Train MAE: 0.1945298, Validation MAE: 0.4928426, lr: 0.0006925\n",
      "Epoch: 013, Train MAE: 0.1878412, Validation MAE: 0.2732157, lr: 0.0006648\n",
      "Epoch: 014, Train MAE: 0.1656707, Validation MAE: 0.3419268, lr: 0.0006382\n",
      "Epoch: 015, Train MAE: 0.1696405, Validation MAE: 0.2543483, lr: 0.0006127\n",
      "Epoch: 016, Train MAE: 0.1554989, Validation MAE: 0.2691488, lr: 0.0005882\n",
      "Epoch: 017, Train MAE: 0.1558837, Validation MAE: 0.2729250, lr: 0.0005647\n",
      "Epoch: 018, Train MAE: 0.1427942, Validation MAE: 0.2454572, lr: 0.0005421\n",
      "Epoch: 019, Train MAE: 0.1359313, Validation MAE: 0.2784254, lr: 0.0005204\n",
      "Epoch: 020, Train MAE: 0.1304539, Validation MAE: 0.2514500, lr: 0.0004996\n",
      "===================================================================================\n",
      "Best Epoch: 18\n",
      "Best Val MAE: 0.24545722364377287\n"
     ]
    }
   ],
   "source": [
    "''' state feature on result but with xtb '''\n",
    "''' training settings '''\n",
    "batch_size=16\n",
    "lr=0.001\n",
    "epochs=20\n",
    "\n",
    "''' wandb settings '''\n",
    "wandb_on=True\n",
    "wandb_project=None\n",
    "wandb_name=None\n",
    "wandb_group=None\n",
    "wandb_memo=None\n",
    "\n",
    "model_dict = runner.__dict__\n",
    "\n",
    "runner.train(batch_size, lr, epochs, wandb_on, wandb_project, wandb_name, wandb_group, wandb_memo)"
   ]
  },
  {
   "cell_type": "code",
   "execution_count": 7,
   "id": "da1797fa-ac92-48a3-a73a-47f5c537a509",
   "metadata": {
    "collapsed": true,
    "jupyter": {
     "outputs_hidden": true
    },
    "tags": []
   },
   "outputs": [
    {
     "name": "stderr",
     "output_type": "stream",
     "text": [
      "Failed to detect the name of this notebook, you can set it manually with the WANDB_NOTEBOOK_NAME environment variable to enable code saving.\n",
      "\u001b[34m\u001b[1mwandb\u001b[0m: Currently logged in as: \u001b[33mihateml\u001b[0m (use `wandb login --relogin` to force relogin)\n",
      "\u001b[34m\u001b[1mwandb\u001b[0m: wandb version 0.12.14 is available!  To upgrade, please run:\n",
      "\u001b[34m\u001b[1mwandb\u001b[0m:  $ pip install wandb --upgrade\n"
     ]
    },
    {
     "data": {
      "text/html": [
       "\n",
       "                Tracking run with wandb version 0.12.0<br/>\n",
       "                Syncing run <strong style=\"color:#cdcd00\">iconic-wave-135</strong> to <a href=\"https://wandb.ai\" target=\"_blank\">Weights & Biases</a> <a href=\"https://docs.wandb.com/integrations/jupyter.html\" target=\"_blank\">(Documentation)</a>.<br/>\n",
       "                Project page: <a href=\"https://wandb.ai/ihateml/testing\" target=\"_blank\">https://wandb.ai/ihateml/testing</a><br/>\n",
       "                Run page: <a href=\"https://wandb.ai/ihateml/testing/runs/wkoqgxy6\" target=\"_blank\">https://wandb.ai/ihateml/testing/runs/wkoqgxy6</a><br/>\n",
       "                Run data is saved locally in <code>/home/rnwnsgud1234/4.BRL/12.MEGNET/Dimenet/wandb/run-20220421_195419-wkoqgxy6</code><br/><br/>\n",
       "            "
      ],
      "text/plain": [
       "<IPython.core.display.HTML object>"
      ]
     },
     "metadata": {},
     "output_type": "display_data"
    },
    {
     "name": "stdout",
     "output_type": "stream",
     "text": [
      "g09 datas convert to graph datas~~\n"
     ]
    },
    {
     "name": "stderr",
     "output_type": "stream",
     "text": [
      "100%|██████████| 502/502 [00:00<00:00, 1891.81it/s]\n"
     ]
    },
    {
     "name": "stdout",
     "output_type": "stream",
     "text": [
      "g09 datas convert to target datas~~\n"
     ]
    },
    {
     "name": "stderr",
     "output_type": "stream",
     "text": [
      "100%|██████████| 467/467 [00:00<00:00, 3987.84it/s]\n"
     ]
    },
    {
     "name": "stdout",
     "output_type": "stream",
     "text": [
      "xtb datas convert to target datas~~ (it may be doing for few minutes...)\n"
     ]
    },
    {
     "name": "stderr",
     "output_type": "stream",
     "text": [
      "100%|██████████| 123259/123259 [00:29<00:00, 4136.44it/s]\n"
     ]
    },
    {
     "name": "stdout",
     "output_type": "stream",
     "text": [
      "The length of g09_datas is 467\n",
      "The length of g09_targets is 467\n",
      "xtb datas conver to graph datas~~ (it may be doing for few minutes...)\n"
     ]
    },
    {
     "name": "stderr",
     "output_type": "stream",
     "text": [
      "100%|██████████| 134239/134239 [00:00<00:00, 326145.60it/s]\n"
     ]
    },
    {
     "name": "stdout",
     "output_type": "stream",
     "text": [
      "The length of xtb_datas is 100\n",
      "The length of xtb_targets is 100\n",
      "Train, val data sizes are  473 94\n",
      "Epoch: 001, Train MAE: 3.2688150, Validation MAE: 3.2640098, lr: 0.0000000, time: 0.0793252\n",
      "Validation loss decreased (inf --> 3.264010). \n",
      "Epoch: 002, Train MAE: 2.0100605, Validation MAE: 1.2964443, lr: 0.0010000, time: 0.0695819\n",
      "Validation loss decreased (3.264010 --> 1.296444). \n",
      "Epoch: 003, Train MAE: 1.0680650, Validation MAE: 0.9213776, lr: 0.0010000, time: 0.0720666\n",
      "Validation loss decreased (1.296444 --> 0.921378). \n",
      "Epoch: 004, Train MAE: 0.7917360, Validation MAE: 0.8773973, lr: 0.0009600, time: 0.0720215\n",
      "Validation loss decreased (0.921378 --> 0.877397). \n",
      "Epoch: 005, Train MAE: 0.8043183, Validation MAE: 0.8159738, lr: 0.0009216, time: 0.0724165\n",
      "Validation loss decreased (0.877397 --> 0.815974). \n",
      "Epoch: 006, Train MAE: 0.8621183, Validation MAE: 0.8801263, lr: 0.0008847, time: 0.0716417\n",
      "EarlyStopping counter: 1 out of 5\n",
      "Epoch: 007, Train MAE: 0.7817442, Validation MAE: 0.9637161, lr: 0.0008493, time: 0.0700905\n",
      "EarlyStopping counter: 2 out of 5\n",
      "Epoch: 008, Train MAE: 0.6781784, Validation MAE: 0.9652461, lr: 0.0008154, time: 0.0710129\n",
      "EarlyStopping counter: 3 out of 5\n",
      "Epoch: 009, Train MAE: 0.6003420, Validation MAE: 0.5429357, lr: 0.0007828, time: 0.0711007\n",
      "Validation loss decreased (0.815974 --> 0.542936). \n",
      "Epoch: 010, Train MAE: 0.5720955, Validation MAE: 0.7886780, lr: 0.0007514, time: 0.0715375\n",
      "EarlyStopping counter: 1 out of 5\n",
      "Epoch: 011, Train MAE: 0.5622589, Validation MAE: 0.6404275, lr: 0.0007214, time: 0.0715124\n",
      "EarlyStopping counter: 2 out of 5\n",
      "Epoch: 012, Train MAE: 0.5265502, Validation MAE: 0.5534675, lr: 0.0006925, time: 0.0708231\n",
      "EarlyStopping counter: 3 out of 5\n",
      "Epoch: 013, Train MAE: 0.4747247, Validation MAE: 0.5390979, lr: 0.0006648, time: 0.0713133\n",
      "Validation loss decreased (0.542936 --> 0.539098). \n",
      "Epoch: 014, Train MAE: 0.4447559, Validation MAE: 0.4425702, lr: 0.0006382, time: 0.0708623\n",
      "Validation loss decreased (0.539098 --> 0.442570). \n",
      "Epoch: 015, Train MAE: 0.3882849, Validation MAE: 0.5013352, lr: 0.0006127, time: 0.0716841\n",
      "EarlyStopping counter: 1 out of 5\n",
      "Epoch: 016, Train MAE: 0.3514086, Validation MAE: 0.4646134, lr: 0.0005882, time: 0.0693248\n",
      "EarlyStopping counter: 2 out of 5\n",
      "Epoch: 017, Train MAE: 0.4065344, Validation MAE: 0.5401125, lr: 0.0005647, time: 0.0703356\n",
      "EarlyStopping counter: 3 out of 5\n",
      "Epoch: 018, Train MAE: 0.3546772, Validation MAE: 0.4174959, lr: 0.0005421, time: 0.0720729\n",
      "Validation loss decreased (0.442570 --> 0.417496). \n",
      "Epoch: 019, Train MAE: 0.2987176, Validation MAE: 0.4212693, lr: 0.0005204, time: 0.0719116\n",
      "EarlyStopping counter: 1 out of 5\n",
      "Epoch: 020, Train MAE: 0.2991780, Validation MAE: 0.4040186, lr: 0.0004996, time: 0.0715368\n",
      "Validation loss decreased (0.417496 --> 0.404019). \n",
      "===================================================================================\n",
      "Best Epoch: 20\n",
      "Best Val MAE: 0.4040185647212315\n"
     ]
    },
    {
     "data": {
      "text/html": [
       "<br/>Waiting for W&B process to finish, PID 35337<br/>Program ended successfully."
      ],
      "text/plain": [
       "<IPython.core.display.HTML object>"
      ]
     },
     "metadata": {},
     "output_type": "display_data"
    },
    {
     "data": {
      "application/vnd.jupyter.widget-view+json": {
       "model_id": "",
       "version_major": 2,
       "version_minor": 0
      },
      "text/plain": [
       "VBox(children=(Label(value=' 0.00MB of 0.00MB uploaded (0.00MB deduped)\\r'), FloatProgress(value=1.0, max=1.0)…"
      ]
     },
     "metadata": {},
     "output_type": "display_data"
    },
    {
     "data": {
      "text/html": [
       "Find user logs for this run at: <code>/home/rnwnsgud1234/4.BRL/12.MEGNET/Dimenet/wandb/run-20220421_195419-wkoqgxy6/logs/debug.log</code>"
      ],
      "text/plain": [
       "<IPython.core.display.HTML object>"
      ]
     },
     "metadata": {},
     "output_type": "display_data"
    },
    {
     "data": {
      "text/html": [
       "Find internal logs for this run at: <code>/home/rnwnsgud1234/4.BRL/12.MEGNET/Dimenet/wandb/run-20220421_195419-wkoqgxy6/logs/debug-internal.log</code>"
      ],
      "text/plain": [
       "<IPython.core.display.HTML object>"
      ]
     },
     "metadata": {},
     "output_type": "display_data"
    },
    {
     "data": {
      "text/html": [
       "<h3>Run summary:</h3><br/><style>\n",
       "    table.wandb td:nth-child(1) { padding: 0 10px; text-align: right }\n",
       "    </style><table class=\"wandb\">\n",
       "<tr><td>Train mae</td><td>0.29918</td></tr><tr><td>Val mae</td><td>0.40402</td></tr><tr><td>lr</td><td>0.0005</td></tr><tr><td>time</td><td>0.07154</td></tr><tr><td>_runtime</td><td>145</td></tr><tr><td>_timestamp</td><td>1650538604</td></tr><tr><td>_step</td><td>19</td></tr></table>"
      ],
      "text/plain": [
       "<IPython.core.display.HTML object>"
      ]
     },
     "metadata": {},
     "output_type": "display_data"
    },
    {
     "data": {
      "text/html": [
       "<h3>Run history:</h3><br/><style>\n",
       "    table.wandb td:nth-child(1) { padding: 0 10px; text-align: right }\n",
       "    </style><table class=\"wandb\">\n",
       "<tr><td>Train mae</td><td>█▅▃▂▂▂▂▂▂▂▂▂▁▁▁▁▁▁▁▁</td></tr><tr><td>Val mae</td><td>█▃▂▂▂▂▂▂▁▂▂▁▁▁▁▁▁▁▁▁</td></tr><tr><td>lr</td><td>▁███▇▇▇▇▆▆▆▆▆▅▅▅▅▅▅▄</td></tr><tr><td>time</td><td>█▁▃▃▃▃▂▂▂▃▃▂▂▂▃▁▂▃▃▃</td></tr><tr><td>_runtime</td><td>▁▁▂▂▂▃▃▄▄▄▅▅▅▆▆▇▇▇██</td></tr><tr><td>_timestamp</td><td>▁▁▂▂▂▃▃▄▄▄▅▅▅▆▆▇▇▇██</td></tr><tr><td>_step</td><td>▁▁▂▂▂▃▃▄▄▄▅▅▅▆▆▇▇▇██</td></tr></table><br/>"
      ],
      "text/plain": [
       "<IPython.core.display.HTML object>"
      ]
     },
     "metadata": {},
     "output_type": "display_data"
    },
    {
     "data": {
      "text/html": [
       "Synced 7 W&B file(s), 0 media file(s), 0 artifact file(s) and 1 other file(s)"
      ],
      "text/plain": [
       "<IPython.core.display.HTML object>"
      ]
     },
     "metadata": {},
     "output_type": "display_data"
    },
    {
     "data": {
      "text/html": [
       "\n",
       "                    <br/>Synced <strong style=\"color:#cdcd00\">iconic-wave-135</strong>: <a href=\"https://wandb.ai/ihateml/testing/runs/wkoqgxy6\" target=\"_blank\">https://wandb.ai/ihateml/testing/runs/wkoqgxy6</a><br/>\n",
       "                "
      ],
      "text/plain": [
       "<IPython.core.display.HTML object>"
      ]
     },
     "metadata": {},
     "output_type": "display_data"
    }
   ],
   "source": [
    "''' wandb test '''\n",
    "''' training settings '''\n",
    "batch_size=16\n",
    "lr=0.001\n",
    "epochs=20\n",
    "\n",
    "''' wandb settings '''\n",
    "wandb_on=True\n",
    "wandb_project='testing'\n",
    "wandb_name='wandb_test'\n",
    "wandb_group='wandb_test'\n",
    "wandb_memo='wandb_test'\n",
    "\n",
    "model_dict = runner.__dict__\n",
    "\n",
    "runner.train(batch_size, lr, epochs, model_dict, wandb_on, wandb_project, wandb_name, wandb_group, wandb_memo)"
   ]
  },
  {
   "cell_type": "code",
   "execution_count": null,
   "id": "374f74d1-1f00-4198-83e4-aac5f63ba92a",
   "metadata": {},
   "outputs": [],
   "source": []
  }
 ],
 "metadata": {
  "kernelspec": {
   "display_name": "MXMNET",
   "language": "python",
   "name": "mxmnet"
  },
  "language_info": {
   "codemirror_mode": {
    "name": "ipython",
    "version": 3
   },
   "file_extension": ".py",
   "mimetype": "text/x-python",
   "name": "python",
   "nbconvert_exporter": "python",
   "pygments_lexer": "ipython3",
   "version": "3.9.6"
  }
 },
 "nbformat": 4,
 "nbformat_minor": 5
}
